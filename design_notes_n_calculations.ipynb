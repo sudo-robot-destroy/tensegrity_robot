{
 "cells": [
  {
   "cell_type": "markdown",
   "metadata": {},
   "source": [
    "## My custom design notes\n",
    "* For the end-caps for the rods use crush ribs. \n",
    "  * The hole should be drafted at about 2 degrees, the ribs should not be drafted. \n",
    "  * The ribs should interfer with the rod by .254 mm and that is the dimensions of the radius of it. \n",
    "  * The bottom of the draft hole is the same dimension as the rod. "
   ]
  },
  {
   "cell_type": "markdown",
   "metadata": {},
   "source": [
    "## Motor sizing calculations:\n",
    "### Summary: \n",
    "Motor torque (combine torque of two wheels): 1.6 Nm  \n",
    "RPM of wheels: 300"
   ]
  },
  {
   "cell_type": "markdown",
   "metadata": {},
   "source": [
    "### Sympy printing function and setup"
   ]
  },
  {
   "cell_type": "code",
   "execution_count": 896,
   "metadata": {},
   "outputs": [],
   "source": [
    "from sympy import *\n",
    "from IPython.display import display, Math\n",
    "\n",
    "def printEvaluation(expr, values, var_name, unit=''):\n",
    "    \"\"\"Printing funciton for sympy expressions to show full expression and calculation\n",
    "\n",
    "    Parameters\n",
    "    ----------\n",
    "    expr\n",
    "        A sympy expression to be displayed and evaluated\n",
    "    values : dict\n",
    "        A dictionary containing each of the varables in the expression as keys and their values as the ...values. \n",
    "        The varaible that is being calculated in this fuction gets added to values. \n",
    "    var_name : str\n",
    "        Just the str version of the expression's name (the left side of the equation)\n",
    "    unit : str\n",
    "        (optional) The engineering units of the answer (e.g. N, kg, etc.)\n",
    "    Returns\n",
    "    -------\n",
    "    The calculated value\n",
    "\n",
    "    Example\n",
    "    -------\n",
    "    theta, y = symbols('theta, y')\n",
    "    g = cos(theta / y)\n",
    "    values = {theta: 1, y: 4}\n",
    "    printEvaluation(g, values, 'g')\n",
    "    \"\"\"\n",
    "\n",
    "    # Make an alternative dict with values that won't be evaluated. \n",
    "    uneval_vals = {}\n",
    "    for key, value in values.items():\n",
    "        uneval_vals[key] = UnevaluatedExpr(value)\n",
    "\n",
    "    result = expr.evalf(subs=values)\n",
    "    display(Math(f'{var_name} = \\\n",
    "                 {latex(nsimplify(expr))} = \\\n",
    "                    {latex(expr.subs(uneval_vals))} = \\\n",
    "                        {result:.4f} \\\\text{{ }} {unit}'))\n",
    "    var_name = symbols(var_name)\n",
    "    values[var_name] = result\n",
    "    return var_name"
   ]
  },
  {
   "cell_type": "markdown",
   "metadata": {},
   "source": [
    "### First reference calculations"
   ]
  },
  {
   "cell_type": "code",
   "execution_count": 897,
   "metadata": {},
   "outputs": [],
   "source": [
    "# From: https://medium.com/husarion-blog/10-steps-to-choosing-the-right-motors-for-your-robotic-project-bf5c4b997407\n",
    "# Inputs (everything in SI units): \n",
    "\n",
    "m_R, v_n, D_W, t_A, k, g = symbols(\"m_R, v_n, D_W, t_A, k, g\")\n",
    "values = {m_R: .907,  # Mass of the robot in kg\n",
    "          v_n: 2.2,   # Linear speed of the robot in m/s\n",
    "          D_W: 0.143, # Diameter of wheel in m\n",
    "          t_A: 0.5,   # Time it takes to get to full speed in s \n",
    "          k:   1,  # Percent grade in %  \n",
    "          g:   9.81}  # gravity in m/s^2\n",
    "\n",
    "# .907 kg is 2 lbs\n",
    "# 2.2 m/s is 5 mph\n",
    "# 1 slope is 45 degrees"
   ]
  },
  {
   "cell_type": "code",
   "execution_count": 898,
   "metadata": {},
   "outputs": [
    {
     "data": {
      "text/latex": [
       "$\\displaystyle N_T =                  \\frac{60 v_{n}}{\\pi D_{W}} =                     \\frac{60 \\cdot 2.2 \\cdot 0.143^{-1}}{\\pi} =                         293.8245 \\text{ } rpm$"
      ],
      "text/plain": [
       "<IPython.core.display.Math object>"
      ]
     },
     "metadata": {},
     "output_type": "display_data"
    }
   ],
   "source": [
    "# Wheel rotation speed [RPM]\n",
    "N_T = (60*v_n)/(pi*D_W)\n",
    "N_T = printEvaluation(N_T, values, 'N_T', 'rpm')"
   ]
  },
  {
   "cell_type": "code",
   "execution_count": 899,
   "metadata": {},
   "outputs": [
    {
     "data": {
      "text/latex": [
       "$\\displaystyle F_T =                  g k m_{R} =                     0.907 \\cdot 1 \\cdot 9.81 =                         8.8977 \\text{ } N$"
      ],
      "text/plain": [
       "<IPython.core.display.Math object>"
      ]
     },
     "metadata": {},
     "output_type": "display_data"
    }
   ],
   "source": [
    "# Thrust force for whole robot to get up a hill [N]\n",
    "F_T = g*k*m_R\n",
    "F_T = printEvaluation(F_T, values, 'F_T', 'N')"
   ]
  },
  {
   "cell_type": "code",
   "execution_count": 900,
   "metadata": {},
   "outputs": [
    {
     "data": {
      "text/latex": [
       "$\\displaystyle P_U =                  F_{T} v_{n} =                     2.2 \\cdot 8.89767 =                         19.5749 \\text{ } W$"
      ],
      "text/plain": [
       "<IPython.core.display.Math object>"
      ]
     },
     "metadata": {},
     "output_type": "display_data"
    }
   ],
   "source": [
    "# Mechanical power for both motors together [W]\n",
    "P_U = F_T*v_n\n",
    "P_U = printEvaluation(P_U, values, 'P_U', 'W') "
   ]
  },
  {
   "cell_type": "code",
   "execution_count": 901,
   "metadata": {},
   "outputs": [
    {
     "data": {
      "text/latex": [
       "$\\displaystyle T_T =                  D_{W} F_{T} =                     8.89767 \\cdot 0.143 =                         1.2724 \\text{ } Nm$"
      ],
      "text/plain": [
       "<IPython.core.display.Math object>"
      ]
     },
     "metadata": {},
     "output_type": "display_data"
    }
   ],
   "source": [
    "# Torque per motor [Nm]\n",
    "safety_factor = 2\n",
    "T_T = (D_W/2)*F_T*safety_factor  # The example did per wheel but each of our motors drives 2 wheels. \n",
    "T_T = printEvaluation(T_T, values, 'T_T', 'Nm')"
   ]
  },
  {
   "cell_type": "code",
   "execution_count": 902,
   "metadata": {},
   "outputs": [
    {
     "data": {
      "text/latex": [
       "$\\displaystyle A_R =                  \\frac{v_{n}}{t_{A}} =                     2.2 \\cdot 0.5^{-1} =                         4.4000 \\text{ } m/s$"
      ],
      "text/plain": [
       "<IPython.core.display.Math object>"
      ]
     },
     "metadata": {},
     "output_type": "display_data"
    }
   ],
   "source": [
    "# Vehicle acceleration \n",
    "A_R = v_n / t_A\n",
    "A_R = printEvaluation(A_R, values, 'A_R', 'm/s')"
   ]
  },
  {
   "cell_type": "code",
   "execution_count": 903,
   "metadata": {},
   "outputs": [
    {
     "data": {
      "text/latex": [
       "$\\displaystyle F_A =                  A_{R} m_{R} =                     0.907 \\cdot 4.4 =                         3.9908 \\text{ } N$"
      ],
      "text/plain": [
       "<IPython.core.display.Math object>"
      ]
     },
     "metadata": {},
     "output_type": "display_data"
    }
   ],
   "source": [
    "# Acceleration force\n",
    "F_A = A_R*m_R\n",
    "F_A = printEvaluation(F_A, values, 'F_A', 'N')\n",
    "# Since this is less that F_T I'm not going to use it. "
   ]
  },
  {
   "cell_type": "markdown",
   "metadata": {},
   "source": [
    "### Second reference calculations (I think this one is wrong)"
   ]
  },
  {
   "cell_type": "code",
   "execution_count": 904,
   "metadata": {},
   "outputs": [],
   "source": [
    "# From https://wiki.dfrobot.com/How_to_Calculate_the_Motor_Torque_for_a_Mobile_Robot\n",
    "\n",
    "\n",
    "m, g, mu, v, t_A, r = symbols('m, g, mu, v, t_A, r')\n",
    "values = {\n",
    "    m:  0.907,  # mass in kg\n",
    "    g:  9.8,    # gravity m/s^2\n",
    "    mu: 0.7,    # friction (unitless)\n",
    "    v: 2.2,     # desired speed m/s\n",
    "    t_A: 0.5,   # time to get to speed\n",
    "    r: 0.143/2, # radius of wheel in m\n",
    "}"
   ]
  },
  {
   "cell_type": "code",
   "execution_count": 905,
   "metadata": {},
   "outputs": [
    {
     "data": {
      "text/latex": [
       "$\\displaystyle N =                  g m =                     0.907 \\cdot 9.8 =                         8.8886 \\text{ } N$"
      ],
      "text/plain": [
       "<IPython.core.display.Math object>"
      ]
     },
     "metadata": {},
     "output_type": "display_data"
    },
    {
     "data": {
      "text/latex": [
       "$\\displaystyle F_f =                  N \\mu =                     0.7 \\cdot 8.8886 =                         6.2220 \\text{ } N$"
      ],
      "text/plain": [
       "<IPython.core.display.Math object>"
      ]
     },
     "metadata": {},
     "output_type": "display_data"
    }
   ],
   "source": [
    "# Friction force: \n",
    "N = m * g\n",
    "N = printEvaluation(N, values, 'N', 'N')\n",
    "F_f = mu * N\n",
    "F_f = printEvaluation(F_f, values, \"F_f\", 'N')\n",
    "## I think this is wrong, seems like this assumes I'm dragging the body of the robot along the floor. "
   ]
  },
  {
   "cell_type": "code",
   "execution_count": 906,
   "metadata": {},
   "outputs": [
    {
     "data": {
      "text/latex": [
       "$\\displaystyle a =                  \\frac{v}{t_{A}} =                     2.2 \\cdot 0.5^{-1} =                         4.4000 \\text{ } m/s^2$"
      ],
      "text/plain": [
       "<IPython.core.display.Math object>"
      ]
     },
     "metadata": {},
     "output_type": "display_data"
    },
    {
     "data": {
      "text/latex": [
       "$\\displaystyle F_a =                  a m =                     0.907 \\cdot 4.4 =                         3.9908 \\text{ } N$"
      ],
      "text/plain": [
       "<IPython.core.display.Math object>"
      ]
     },
     "metadata": {},
     "output_type": "display_data"
    },
    {
     "data": {
      "text/latex": [
       "$\\displaystyle F =                  F_{a} + F_{f} =                     3.9908 + 6.22202 =                         10.2128 \\text{ } N$"
      ],
      "text/plain": [
       "<IPython.core.display.Math object>"
      ]
     },
     "metadata": {},
     "output_type": "display_data"
    }
   ],
   "source": [
    "# Acceleration force: \n",
    "a = v/t_A\n",
    "a = printEvaluation(a, values, 'a', 'm/s^2')\n",
    "F_a = m * a\n",
    "F_a = printEvaluation(F_a, values, 'F_a', 'N')\n",
    "F = F_f + F_a\n",
    "F = printEvaluation(F, values, \"F\", \"N\")"
   ]
  },
  {
   "cell_type": "code",
   "execution_count": 907,
   "metadata": {},
   "outputs": [
    {
     "data": {
      "text/latex": [
       "$\\displaystyle tau =                  F r =                     0.0715 \\cdot 10.21282 =                         0.7302 \\text{ } Nm$"
      ],
      "text/plain": [
       "<IPython.core.display.Math object>"
      ]
     },
     "metadata": {},
     "output_type": "display_data"
    }
   ],
   "source": [
    "# Torque per motor\n",
    "safety_factor = 2\n",
    "tau = (F*r*safety_factor)/2  # Each motor is two wheel. \n",
    "tau = printEvaluation(tau, values, 'tau', 'Nm')"
   ]
  },
  {
   "cell_type": "code",
   "execution_count": 908,
   "metadata": {},
   "outputs": [
    {
     "data": {
      "text/latex": [
       "$\\displaystyle n =                  \\frac{30 v}{\\pi r} =                     \\frac{30 \\cdot 2.2 \\cdot 0.0715^{-1}}{\\pi} =                         293.8245 \\text{ } rpm$"
      ],
      "text/plain": [
       "<IPython.core.display.Math object>"
      ]
     },
     "metadata": {},
     "output_type": "display_data"
    }
   ],
   "source": [
    "# Wheel rotation speed\n",
    "n = (v*60)/(2*pi*r)\n",
    "n = printEvaluation(n, values, 'n', 'rpm')"
   ]
  },
  {
   "cell_type": "markdown",
   "metadata": {},
   "source": [
    "### Third reference calculations"
   ]
  },
  {
   "cell_type": "code",
   "execution_count": 909,
   "metadata": {},
   "outputs": [],
   "source": [
    "# Ref: https://www.robotsforroboticists.com/motor-selection/\n",
    "\n",
    "m_R, v_n, D_W, t_A, theta, eta, g = symbols(\"m_R, v_n, D_W, t_A, theta, eta, g\")\n",
    "values = {m_R:   0.907, # Mass of the robot in kg\n",
    "          v_n:   2.2,   # Linear speed of the robot in m/s\n",
    "          r:   0.143/2, # Diameter of wheel in m\n",
    "          t_A:   0.5,   # Time it takes to get to full speed in s \n",
    "          theta: 0.785, # angle of slope  \n",
    "          eta:   .8,    # efficiency\n",
    "          g:     9.81}  # gravity in m/s^2\n",
    "\n",
    "# .907 kg is 2 lbs\n",
    "# 2.2 m/s is 5 mph\n",
    "# .785 rad is 45 degrees"
   ]
  },
  {
   "cell_type": "code",
   "execution_count": 910,
   "metadata": {},
   "outputs": [
    {
     "data": {
      "text/latex": [
       "$\\displaystyle a =                  \\frac{v_{n}}{t_{A}} =                     2.2 \\cdot 0.5^{-1} =                         4.4000 \\text{ } $"
      ],
      "text/plain": [
       "<IPython.core.display.Math object>"
      ]
     },
     "metadata": {},
     "output_type": "display_data"
    },
    {
     "data": {
      "text/latex": [
       "$\\displaystyle T =                  a \\eta g m_{R} r \\sin{\\left(\\theta \\right)} =                     \\sin{\\left(0.785 \\right)} 0.0715 \\cdot 0.907 \\cdot 9.81 \\cdot 0.8 \\cdot 4.4 =                         1.5828 \\text{ } Nm$"
      ],
      "text/plain": [
       "<IPython.core.display.Math object>"
      ]
     },
     "metadata": {},
     "output_type": "display_data"
    }
   ],
   "source": [
    "# Torque per motor\n",
    "a = v_n/t_A\n",
    "a = printEvaluation(a, values, 'a')\n",
    "safety_factor = 2\n",
    "T = (a*g*sin(theta)*m_R*r)/4*eta*safety_factor*2\n",
    "T = printEvaluation(T, values, 'T', 'Nm')"
   ]
  }
 ],
 "metadata": {
  "kernelspec": {
   "display_name": "Python 3",
   "language": "python",
   "name": "python3"
  },
  "language_info": {
   "codemirror_mode": {
    "name": "ipython",
    "version": 3
   },
   "file_extension": ".py",
   "mimetype": "text/x-python",
   "name": "python",
   "nbconvert_exporter": "python",
   "pygments_lexer": "ipython3",
   "version": "3.12.5"
  }
 },
 "nbformat": 4,
 "nbformat_minor": 2
}
