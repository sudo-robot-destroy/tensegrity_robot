{
 "cells": [
  {
   "cell_type": "markdown",
   "metadata": {},
   "source": [
    "## My custom design notes\n",
    "* For the end-caps for the rods use crush ribs. \n",
    "  * The hole should be drafted at about 2 degrees, the ribs should not be drafted. \n",
    "  * The ribs should interfer with the rod by .254 mm and that is the dimensions of the radius of it. \n",
    "  * The bottom of the draft hole is the same dimension as the rod. "
   ]
  },
  {
   "cell_type": "markdown",
   "metadata": {},
   "source": [
    "## Motor sizing calculations:"
   ]
  },
  {
   "cell_type": "markdown",
   "metadata": {},
   "source": [
    "### Sympy printing function and setup"
   ]
  },
  {
   "cell_type": "code",
   "execution_count": 398,
   "metadata": {},
   "outputs": [],
   "source": [
    "from sympy import *\n",
    "from IPython.display import display, Math\n",
    "\n",
    "def printEvaluation(expr, values, var_name, unit=''):\n",
    "    \"\"\"Printing funciton for sympy expressions to show full expression and calculation\n",
    "\n",
    "    Parameters\n",
    "    ----------\n",
    "    expr\n",
    "        A sympy expression to be displayed and evaluated\n",
    "    values : dict\n",
    "        A dictionary containing each of the varables in the expression as keys and their values as the ...values\n",
    "    var_name : str\n",
    "        Just the str version of the expression's name (the left side of the equation)\n",
    "    unit : str\n",
    "        (optional) The engineering units of the answer (e.g. N, kg, etc.)\n",
    "    Returns\n",
    "    -------\n",
    "    The calculated value\n",
    "\n",
    "    Example\n",
    "    -------\n",
    "    theta, y = symbols('theta, y')\n",
    "    g = cos(theta / y)\n",
    "    values = {theta: 1, y: 4}\n",
    "    printEvaluation(g, values, 'g')\n",
    "    \"\"\"\n",
    "\n",
    "    # Make an alternative dict with values that won't be evaluated. \n",
    "    uneval_vals = {}\n",
    "    for key, value in values.items():\n",
    "        uneval_vals[key] = UnevaluatedExpr(value)\n",
    "    result = expr.evalf(subs=values)\n",
    "    display(Math(f'{var_name} = {latex(nsimplify(expr))} = {latex(expr.subs(uneval_vals))} = {result:.4f} \\\\text{{ }} {unit}'))\n",
    "\n",
    "    return result"
   ]
  },
  {
   "cell_type": "markdown",
   "metadata": {},
   "source": [
    "### First reference calculations"
   ]
  },
  {
   "cell_type": "code",
   "execution_count": 399,
   "metadata": {},
   "outputs": [],
   "source": [
    "# From: https://medium.com/husarion-blog/10-steps-to-choosing-the-right-motors-for-your-robotic-project-bf5c4b997407\n",
    "# Inputs (everything in SI units): \n",
    "\n",
    "m_R, v_n, D_W, t_A, k, g = symbols(\"m_R, v_n, D_W, t_A, k, g\")\n",
    "values = {m_R: .907,  # Mass of the robot in kg\n",
    "          v_n: 2.2,   # Linear speed of the robot in m/s\n",
    "          D_W: 0.143, # Diameter of wheel in m\n",
    "          t_A: 0.5,   # Time it takes to get to full speed in s \n",
    "          k:   0.57,  # Percent grade in %  \n",
    "          g:   9.81}  # gravity in m/s^2\n",
    "\n",
    "# .907 kg is 2 lbs\n",
    "# 2.2 m/s is 5 mph\n",
    "# .57 slope is 30 degrees"
   ]
  },
  {
   "cell_type": "code",
   "execution_count": 400,
   "metadata": {},
   "outputs": [
    {
     "data": {
      "text/latex": [
       "$\\displaystyle N_T = \\frac{60 v_{n}}{\\pi D_{W}} = \\frac{60 \\cdot 2.2 \\cdot 0.143^{-1}}{\\pi} = 293.8245 \\text{ } rpm$"
      ],
      "text/plain": [
       "<IPython.core.display.Math object>"
      ]
     },
     "metadata": {},
     "output_type": "display_data"
    }
   ],
   "source": [
    "# Wheel rotation speed [RPM]\n",
    "N_T = (60*v_n)/(pi*D_W)\n",
    "N_Tval = printEvaluation(N_T, values, 'N_T', 'rpm')"
   ]
  },
  {
   "cell_type": "code",
   "execution_count": 401,
   "metadata": {},
   "outputs": [
    {
     "data": {
      "text/latex": [
       "$\\displaystyle F_T = g k m_{R} = 0.907 \\cdot 0.57 \\cdot 9.81 = 5.0717 \\text{ } N$"
      ],
      "text/plain": [
       "<IPython.core.display.Math object>"
      ]
     },
     "metadata": {},
     "output_type": "display_data"
    }
   ],
   "source": [
    "# Thrust force for whole robot to get up a hill [N]\n",
    "F_T = g*k*m_R\n",
    "F_Tval = printEvaluation(F_T, values, 'F_T', 'N')\n",
    "F_T = symbols('F_T')\n",
    "values[F_T] = F_Tval"
   ]
  },
  {
   "cell_type": "code",
   "execution_count": 402,
   "metadata": {},
   "outputs": [
    {
     "data": {
      "text/latex": [
       "$\\displaystyle P_U = F_{T} v_{n} = 2.2 \\cdot 5.0716719 = 11.1577 \\text{ } W$"
      ],
      "text/plain": [
       "<IPython.core.display.Math object>"
      ]
     },
     "metadata": {},
     "output_type": "display_data"
    }
   ],
   "source": [
    "# Mechanical power for both motors together [W]\n",
    "P_U = F_T*v_n\n",
    "P_Uval = printEvaluation(P_U, values, 'P_U', 'W') "
   ]
  },
  {
   "cell_type": "code",
   "execution_count": 403,
   "metadata": {},
   "outputs": [
    {
     "data": {
      "text/latex": [
       "$\\displaystyle T_T = \\frac{D_{W} F_{T}}{2} = \\frac{5.0716719 \\cdot 0.143}{2} = 0.3626 \\text{ } Nm$"
      ],
      "text/plain": [
       "<IPython.core.display.Math object>"
      ]
     },
     "metadata": {},
     "output_type": "display_data"
    }
   ],
   "source": [
    "# Torque per motor [Nm]\n",
    "T_T = (D_W/2)*F_T  # The example did per wheel but each of our motors drives 2 wheels. \n",
    "T_Tval = printEvaluation(T_T, values, 'T_T', 'Nm')"
   ]
  },
  {
   "cell_type": "code",
   "execution_count": 404,
   "metadata": {},
   "outputs": [
    {
     "data": {
      "text/latex": [
       "$\\displaystyle A_R = \\frac{v_{n}}{t_{A}} = 2.2 \\cdot 0.5^{-1} = 4.4000 \\text{ } m/s$"
      ],
      "text/plain": [
       "<IPython.core.display.Math object>"
      ]
     },
     "metadata": {},
     "output_type": "display_data"
    }
   ],
   "source": [
    "# Vehicle acceleration \n",
    "A_R = v_n / t_A\n",
    "A_Rval = printEvaluation(A_R, values, 'A_R', 'm/s')\n",
    "A_R = symbols(\"A_R\")\n",
    "values[A_R] = A_Rval"
   ]
  },
  {
   "cell_type": "code",
   "execution_count": 405,
   "metadata": {},
   "outputs": [
    {
     "data": {
      "text/latex": [
       "$\\displaystyle F_A = A_{R} m_{R} = 0.907 \\cdot 4.4 = 3.9908 \\text{ } N$"
      ],
      "text/plain": [
       "<IPython.core.display.Math object>"
      ]
     },
     "metadata": {},
     "output_type": "display_data"
    }
   ],
   "source": [
    "# Acceleration force\n",
    "F_A = A_R*m_R\n",
    "F_Aval = printEvaluation(F_A, values, 'F_A', 'N')\n",
    "# Since this is less that F_T I'm not going to use it. "
   ]
  },
  {
   "cell_type": "markdown",
   "metadata": {},
   "source": [
    "### Second reference calculations"
   ]
  },
  {
   "cell_type": "code",
   "execution_count": 406,
   "metadata": {},
   "outputs": [],
   "source": [
    "# From https://wiki.dfrobot.com/How_to_Calculate_the_Motor_Torque_for_a_Mobile_Robot\n",
    "\n",
    "# Next ones are: \n",
    "# https://www.robotsforroboticists.com/motor-selection/\n",
    "# https://maker.pro/custom/tutorial/motor-sizing-math"
   ]
  }
 ],
 "metadata": {
  "kernelspec": {
   "display_name": "Python 3",
   "language": "python",
   "name": "python3"
  },
  "language_info": {
   "codemirror_mode": {
    "name": "ipython",
    "version": 3
   },
   "file_extension": ".py",
   "mimetype": "text/x-python",
   "name": "python",
   "nbconvert_exporter": "python",
   "pygments_lexer": "ipython3",
   "version": "3.12.5"
  }
 },
 "nbformat": 4,
 "nbformat_minor": 2
}
